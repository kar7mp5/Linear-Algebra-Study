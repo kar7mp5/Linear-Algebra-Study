{
 "cells": [
  {
   "cell_type": "code",
   "execution_count": null,
   "id": "2f8f1522",
   "metadata": {},
   "outputs": [
    {
     "name": "stdout",
     "output_type": "stream",
     "text": [
      "[[ 0.70710678  0.70710678  0.        ]\n",
      " [ 0.57735027 -0.57735027  0.57735027]\n",
      " [-0.40824829  0.40824829  0.81649658]]\n",
      "[[ 1.00000000e+00  2.50235355e-16  1.47380436e-17]\n",
      " [ 2.50235355e-16  1.00000000e+00 -3.33168241e-17]\n",
      " [ 1.47380436e-17 -3.33168241e-17  1.00000000e+00]]\n",
      "==============================\n",
      "[[ 0.70710678  0.          0.70710678]\n",
      " [-0.40824829  0.81649658  0.40824829]\n",
      " [ 0.57735027  0.57735027 -0.57735027]]\n"
     ]
    }
   ],
   "source": [
    "import numpy as np\n",
    "\n",
    "def gram_schmidt(vectors):\n",
    "  A = np.array(vectors, dtype=float).T\n",
    "  n, k = A.shape\n",
    "  \n",
    "  Q = np.zeros((n, k))\n",
    "  \n",
    "  for i in range(k):\n",
    "    a_i = A[:, i]\n",
    "    q_tilde = a_i\n",
    "    \n",
    "    for j in range(i):\n",
    "      q_j = Q[:, j]\n",
    "      projection = np.dot(q_j.T, a_i) * q_j\n",
    "      q_tilde = q_tilde - projection\n",
    "\n",
    "    norm_q_tilde = np.linalg.norm(q_tilde)\n",
    "    \n",
    "    if norm_q_tilde < 1e-10:\n",
    "      print(\"linear dependent\")\n",
    "      return Q[:, :i]\n",
    "    \n",
    "    Q[:, i] = q_tilde / norm_q_tilde\n",
    "\n",
    "  return Q\n",
    "\n",
    "a1 = [1, 1, 0]\n",
    "a2 = [2, 0, 1]\n",
    "a3 = [0, 1, 2]\n",
    "vectors_independent = [a1, a2, a3]\n",
    "\n",
    "orthonormal_vectors = gram_schmidt(vectors_independent)\n",
    "print(orthonormal_vectors.T)\n",
    "print(np.dot(orthonormal_vectors.T, orthonormal_vectors))\n",
    "\n",
    "print('='*30)\n",
    "\n",
    "b1 = [1, 0, 1]\n",
    "b2 = [0, 1, 1]\n",
    "b3 = [2, 1, 3]\n",
    "vectors_dependent = [b1, b2, b3]\n",
    "\n",
    "orthonormal_vectors_dep = gram_schmidt(vectors_dependent)\n",
    "\n",
    "print(orthonormal_vectors_dep.T)"
   ]
  }
 ],
 "metadata": {
  "kernelspec": {
   "display_name": "venv (3.10.12)",
   "language": "python",
   "name": "python3"
  },
  "language_info": {
   "codemirror_mode": {
    "name": "ipython",
    "version": 3
   },
   "file_extension": ".py",
   "mimetype": "text/x-python",
   "name": "python",
   "nbconvert_exporter": "python",
   "pygments_lexer": "ipython3",
   "version": "3.10.12"
  }
 },
 "nbformat": 4,
 "nbformat_minor": 5
}
