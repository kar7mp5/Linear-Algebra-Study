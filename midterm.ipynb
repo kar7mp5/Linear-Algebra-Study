{
 "cells": [
  {
   "cell_type": "markdown",
   "id": "87cb2227",
   "metadata": {},
   "source": [
    "$$\n",
    "f(x) = x^2 + 3x + 1\n",
    "$$\n",
    "\n",
    "$$\n",
    "\\hat{f}(x) = f(x_0) + f^\\prime(x_0)(x - x_0)\n",
    "$$"
   ]
  },
  {
   "cell_type": "code",
   "execution_count": 1,
   "id": "71676044",
   "metadata": {},
   "outputs": [
    {
     "name": "stdout",
     "output_type": "stream",
     "text": [
      "Affine approximation at 2.5: 14.5\n",
      "True value at 2.5: 14.75\n",
      "Difference: 0.25\n"
     ]
    }
   ],
   "source": [
    "import numpy as np\n",
    "\n",
    "def f(x):\n",
    "  return x**2 + 3*x + 1\n",
    "\n",
    "x0 = 2\n",
    "f_x0 = f(x0)\n",
    "df_dx = 2*x0 + 3\n",
    "\n",
    "def affine_approx(x):\n",
    "  return f_x0 + df_dx * (x - x0)\n",
    "\n",
    "x_eval = 2.5\n",
    "approx_val = affine_approx(x_eval)\n",
    "true_val = f(x_eval)\n",
    "diff = true_val - approx_val\n",
    "\n",
    "print(f\"Affine approximation at {x_eval}: {approx_val}\")\n",
    "print(f\"True value at {x_eval}: {true_val}\")\n",
    "print(f\"Difference: {diff}\")"
   ]
  },
  {
   "cell_type": "markdown",
   "id": "bf234171",
   "metadata": {},
   "source": [
    "$$\n",
    "a = [1, 2, 3] \\quad b = [4, 5, 6]\n",
    "$$"
   ]
  },
  {
   "cell_type": "code",
   "execution_count": 8,
   "id": "83c68c67",
   "metadata": {},
   "outputs": [
    {
     "name": "stdout",
     "output_type": "stream",
     "text": [
      "Euclidean norm of a: 3.7416573867739413\n",
      "Distance between a and b: 5.196152422706632\n",
      "Angle between a and b (degrees): 12.933154491899135\n",
      "Standard deviation of a: 0.816496580927726\n"
     ]
    }
   ],
   "source": [
    "import numpy as np\n",
    "\n",
    "a = np.array([1, 2, 3])\n",
    "b = np.array([4, 5, 6])\n",
    "\n",
    "norm_a = np.linalg.norm(a)\n",
    "dist = np.linalg.norm(a - b)\n",
    "dot_product = np.dot(a, b)\n",
    "norm_b = np.linalg.norm(b)\n",
    "angle_rad = np.arccos(dot_product/(norm_a * norm_b))\n",
    "angle_deg = np.degrees(angle_rad)\n",
    "std_a = np.std(a)\n",
    "\n",
    "print(f\"Euclidean norm of a: {norm_a}\")\n",
    "print(f\"Distance between a and b: {dist}\")\n",
    "print(f\"Angle between a and b (degrees): {angle_deg}\")\n",
    "print(f\"Standard deviation of a: {std_a}\")"
   ]
  },
  {
   "cell_type": "markdown",
   "id": "50baf8ba",
   "metadata": {},
   "source": [
    "$$\n",
    "v_1 = [1, 0, 0] \\quad v_2 = [1, 1, 0] \\quad v_3 = [1, 1, 1]\n",
    "$$"
   ]
  },
  {
   "cell_type": "code",
   "execution_count": null,
   "id": "fa487323",
   "metadata": {},
   "outputs": [
    {
     "name": "stdout",
     "output_type": "stream",
     "text": [
      "3\n"
     ]
    },
    {
     "data": {
      "text/plain": [
       "np.True_"
      ]
     },
     "execution_count": 13,
     "metadata": {},
     "output_type": "execute_result"
    }
   ],
   "source": [
    "import numpy as np\n",
    "\n",
    "v1 = np.array([1, 0, 0])\n",
    "v2 = np.array([1, 1, 0])\n",
    "v3 = np.array([1, 1, 1])\n",
    "V = np.column_stack([v1, v2, v3])\n",
    "\n",
    "independent = np.linalg.matrix_rank(V) == V.shape[1]\n",
    "\n",
    "Q = np.zeros_like(V, dtype=float)\n",
    "Q[:, 0] = v1 / np.linalg.norm(v1)\n",
    "u2 = v2 - np.dot(v2, Q[:, 0]) * Q[:, 0]"
   ]
  }
 ],
 "metadata": {
  "kernelspec": {
   "display_name": "venv (3.10.12)",
   "language": "python",
   "name": "python3"
  },
  "language_info": {
   "codemirror_mode": {
    "name": "ipython",
    "version": 3
   },
   "file_extension": ".py",
   "mimetype": "text/x-python",
   "name": "python",
   "nbconvert_exporter": "python",
   "pygments_lexer": "ipython3",
   "version": "3.10.12"
  }
 },
 "nbformat": 4,
 "nbformat_minor": 5
}
